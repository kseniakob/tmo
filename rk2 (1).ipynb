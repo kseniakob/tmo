{
 "cells": [
  {
   "cell_type": "markdown",
   "id": "14b172ac",
   "metadata": {},
   "source": [
    "# Домрачева К.Г. ИУ5-65Б РК2 Вариант №4 "
   ]
  },
  {
   "cell_type": "markdown",
   "id": "dcc6b72c",
   "metadata": {},
   "source": [
    "Задание. Для заданного набора данных постройте модели классификации или регрессии (в зависимости от конкретной задачи, рассматриваемой в наборе данных). Для построения моделей используйте метод опорных векторов и градиентный бустинг. Оценить качество моделей на основе подходящих метрик качества (не менее двух метрик). Какие метрики качества Вы использовали и почему? Какие выводы Вы можете сделать о качестве построенных моделей? Для построения моделей необходимо выполнить требуемую предобработку данных: заполнение пропусков, кодирование категориальных признаков, и т.д."
   ]
  },
  {
   "cell_type": "code",
   "execution_count": 24,
   "id": "853d2521",
   "metadata": {},
   "outputs": [],
   "source": [
    "import pandas as pd\n",
    "from sklearn.svm import SVC\n",
    "from sklearn.ensemble import GradientBoostingRegressor, GradientBoostingClassifier\n",
    "from sklearn.model_selection import train_test_split\n",
    "from sklearn.metrics import mean_absolute_error, r2_score, f1_score"
   ]
  },
  {
   "cell_type": "code",
   "execution_count": 3,
   "id": "5b85bab4",
   "metadata": {},
   "outputs": [],
   "source": [
    "from sklearn.metrics import accuracy_score, balanced_accuracy_score"
   ]
  },
  {
   "cell_type": "code",
   "execution_count": 4,
   "id": "a065ea59",
   "metadata": {},
   "outputs": [],
   "source": [
    "data = pd.read_csv('toy_dataset.csv')"
   ]
  },
  {
   "cell_type": "code",
   "execution_count": 10,
   "id": "38714a69",
   "metadata": {
    "scrolled": true
   },
   "outputs": [
    {
     "data": {
      "text/html": [
       "<div>\n",
       "<style scoped>\n",
       "    .dataframe tbody tr th:only-of-type {\n",
       "        vertical-align: middle;\n",
       "    }\n",
       "\n",
       "    .dataframe tbody tr th {\n",
       "        vertical-align: top;\n",
       "    }\n",
       "\n",
       "    .dataframe thead th {\n",
       "        text-align: right;\n",
       "    }\n",
       "</style>\n",
       "<table border=\"1\" class=\"dataframe\">\n",
       "  <thead>\n",
       "    <tr style=\"text-align: right;\">\n",
       "      <th></th>\n",
       "      <th>Number</th>\n",
       "      <th>City</th>\n",
       "      <th>Gender</th>\n",
       "      <th>Age</th>\n",
       "      <th>Income</th>\n",
       "      <th>Illness</th>\n",
       "    </tr>\n",
       "  </thead>\n",
       "  <tbody>\n",
       "    <tr>\n",
       "      <th>0</th>\n",
       "      <td>1</td>\n",
       "      <td>Dallas</td>\n",
       "      <td>Male</td>\n",
       "      <td>41</td>\n",
       "      <td>40367.0</td>\n",
       "      <td>No</td>\n",
       "    </tr>\n",
       "    <tr>\n",
       "      <th>1</th>\n",
       "      <td>2</td>\n",
       "      <td>Dallas</td>\n",
       "      <td>Male</td>\n",
       "      <td>54</td>\n",
       "      <td>45084.0</td>\n",
       "      <td>No</td>\n",
       "    </tr>\n",
       "    <tr>\n",
       "      <th>2</th>\n",
       "      <td>3</td>\n",
       "      <td>Dallas</td>\n",
       "      <td>Male</td>\n",
       "      <td>42</td>\n",
       "      <td>52483.0</td>\n",
       "      <td>No</td>\n",
       "    </tr>\n",
       "    <tr>\n",
       "      <th>3</th>\n",
       "      <td>4</td>\n",
       "      <td>Dallas</td>\n",
       "      <td>Male</td>\n",
       "      <td>40</td>\n",
       "      <td>40941.0</td>\n",
       "      <td>No</td>\n",
       "    </tr>\n",
       "    <tr>\n",
       "      <th>4</th>\n",
       "      <td>5</td>\n",
       "      <td>Dallas</td>\n",
       "      <td>Male</td>\n",
       "      <td>46</td>\n",
       "      <td>50289.0</td>\n",
       "      <td>No</td>\n",
       "    </tr>\n",
       "  </tbody>\n",
       "</table>\n",
       "</div>"
      ],
      "text/plain": [
       "   Number    City Gender  Age   Income Illness\n",
       "0       1  Dallas   Male   41  40367.0      No\n",
       "1       2  Dallas   Male   54  45084.0      No\n",
       "2       3  Dallas   Male   42  52483.0      No\n",
       "3       4  Dallas   Male   40  40941.0      No\n",
       "4       5  Dallas   Male   46  50289.0      No"
      ]
     },
     "execution_count": 10,
     "metadata": {},
     "output_type": "execute_result"
    }
   ],
   "source": [
    "data.head()"
   ]
  },
  {
   "cell_type": "code",
   "execution_count": 11,
   "id": "c6f88adb",
   "metadata": {},
   "outputs": [
    {
     "data": {
      "text/plain": [
       "(1000, 6)"
      ]
     },
     "execution_count": 11,
     "metadata": {},
     "output_type": "execute_result"
    }
   ],
   "source": [
    "data.shape"
   ]
  },
  {
   "cell_type": "code",
   "execution_count": 12,
   "id": "ebe4a644",
   "metadata": {},
   "outputs": [],
   "source": [
    "data=data[0:1000]"
   ]
  },
  {
   "cell_type": "code",
   "execution_count": 13,
   "id": "3056b39f",
   "metadata": {},
   "outputs": [
    {
     "data": {
      "text/plain": [
       "(1000, 6)"
      ]
     },
     "execution_count": 13,
     "metadata": {},
     "output_type": "execute_result"
    }
   ],
   "source": [
    "data.shape"
   ]
  },
  {
   "cell_type": "code",
   "execution_count": 14,
   "id": "04cc2257",
   "metadata": {},
   "outputs": [
    {
     "data": {
      "text/plain": [
       "Number     0\n",
       "City       0\n",
       "Gender     0\n",
       "Age        0\n",
       "Income     0\n",
       "Illness    0\n",
       "dtype: int64"
      ]
     },
     "execution_count": 14,
     "metadata": {},
     "output_type": "execute_result"
    }
   ],
   "source": [
    "data.isna().sum()"
   ]
  },
  {
   "cell_type": "code",
   "execution_count": 15,
   "id": "6f2ab562",
   "metadata": {},
   "outputs": [
    {
     "name": "stdout",
     "output_type": "stream",
     "text": [
      "<class 'pandas.core.frame.DataFrame'>\n",
      "RangeIndex: 1000 entries, 0 to 999\n",
      "Data columns (total 6 columns):\n",
      " #   Column   Non-Null Count  Dtype  \n",
      "---  ------   --------------  -----  \n",
      " 0   Number   1000 non-null   int64  \n",
      " 1   City     1000 non-null   object \n",
      " 2   Gender   1000 non-null   object \n",
      " 3   Age      1000 non-null   int64  \n",
      " 4   Income   1000 non-null   float64\n",
      " 5   Illness  1000 non-null   object \n",
      "dtypes: float64(1), int64(2), object(3)\n",
      "memory usage: 47.0+ KB\n"
     ]
    }
   ],
   "source": [
    "data.info()"
   ]
  },
  {
   "cell_type": "code",
   "execution_count": 16,
   "id": "daeb20ce",
   "metadata": {},
   "outputs": [],
   "source": [
    "data['Illness']=pd.Categorical(data['Illness'])\n",
    "data['Illness']=data['Illness'].cat.codes"
   ]
  },
  {
   "cell_type": "code",
   "execution_count": 17,
   "id": "dae8e6da",
   "metadata": {},
   "outputs": [
    {
     "data": {
      "text/plain": [
       "0    0\n",
       "1    0\n",
       "2    0\n",
       "3    0\n",
       "4    0\n",
       "Name: Illness, dtype: int8"
      ]
     },
     "execution_count": 17,
     "metadata": {},
     "output_type": "execute_result"
    }
   ],
   "source": [
    "data['Illness'].head()"
   ]
  },
  {
   "cell_type": "code",
   "execution_count": 18,
   "id": "9f295842",
   "metadata": {},
   "outputs": [],
   "source": [
    "data['Gender']=pd.Categorical(data['Gender'])\n",
    "data['Gender']=data['Gender'].cat.codes"
   ]
  },
  {
   "cell_type": "code",
   "execution_count": 19,
   "id": "9ebcccb3",
   "metadata": {},
   "outputs": [],
   "source": [
    "data['City']=pd.Categorical(data['City'])\n",
    "data['City']=data['City'].cat.codes"
   ]
  },
  {
   "cell_type": "code",
   "execution_count": 20,
   "id": "7f0f355b",
   "metadata": {},
   "outputs": [],
   "source": [
    "from sklearn import preprocessing\n",
    "pre_process = preprocessing.StandardScaler()"
   ]
  },
  {
   "cell_type": "code",
   "execution_count": 42,
   "id": "0468c259",
   "metadata": {},
   "outputs": [
    {
     "name": "stderr",
     "output_type": "stream",
     "text": [
      "C:\\Users\\user\\anaconda3\\lib\\site-packages\\pandas\\io\\formats\\style.py:3931: RuntimeWarning: All-NaN slice encountered\n",
      "  smin = np.nanmin(gmap) if vmin is None else vmin\n",
      "C:\\Users\\user\\anaconda3\\lib\\site-packages\\pandas\\io\\formats\\style.py:3932: RuntimeWarning: All-NaN slice encountered\n",
      "  smax = np.nanmax(gmap) if vmax is None else vmax\n"
     ]
    },
    {
     "data": {
      "text/html": [
       "<style type=\"text/css\">\n",
       "#T_58c80_row0_col0, #T_58c80_row2_col2, #T_58c80_row3_col3, #T_58c80_row4_col4, #T_58c80_row5_col5 {\n",
       "  background-color: #b40426;\n",
       "  color: #f1f1f1;\n",
       "}\n",
       "#T_58c80_row0_col1, #T_58c80_row1_col0, #T_58c80_row1_col1, #T_58c80_row1_col2, #T_58c80_row1_col3, #T_58c80_row1_col4, #T_58c80_row1_col5, #T_58c80_row2_col1, #T_58c80_row3_col1, #T_58c80_row4_col1, #T_58c80_row5_col1 {\n",
       "  background-color: #000000;\n",
       "  color: #f1f1f1;\n",
       "}\n",
       "#T_58c80_row0_col2, #T_58c80_row3_col4, #T_58c80_row4_col0, #T_58c80_row5_col2 {\n",
       "  background-color: #3d50c3;\n",
       "  color: #f1f1f1;\n",
       "}\n",
       "#T_58c80_row0_col3, #T_58c80_row0_col4, #T_58c80_row2_col0, #T_58c80_row3_col5 {\n",
       "  background-color: #3c4ec2;\n",
       "  color: #f1f1f1;\n",
       "}\n",
       "#T_58c80_row0_col5, #T_58c80_row5_col3 {\n",
       "  background-color: #3e51c5;\n",
       "  color: #f1f1f1;\n",
       "}\n",
       "#T_58c80_row2_col3, #T_58c80_row2_col5, #T_58c80_row3_col0, #T_58c80_row3_col2, #T_58c80_row4_col5, #T_58c80_row5_col4 {\n",
       "  background-color: #3b4cc0;\n",
       "  color: #f1f1f1;\n",
       "}\n",
       "#T_58c80_row2_col4 {\n",
       "  background-color: #c9d7f0;\n",
       "  color: #000000;\n",
       "}\n",
       "#T_58c80_row4_col2 {\n",
       "  background-color: #cbd8ee;\n",
       "  color: #000000;\n",
       "}\n",
       "#T_58c80_row4_col3, #T_58c80_row5_col0 {\n",
       "  background-color: #4055c8;\n",
       "  color: #f1f1f1;\n",
       "}\n",
       "</style>\n",
       "<table id=\"T_58c80\">\n",
       "  <thead>\n",
       "    <tr>\n",
       "      <th class=\"blank level0\" >&nbsp;</th>\n",
       "      <th id=\"T_58c80_level0_col0\" class=\"col_heading level0 col0\" >Number</th>\n",
       "      <th id=\"T_58c80_level0_col1\" class=\"col_heading level0 col1\" >City</th>\n",
       "      <th id=\"T_58c80_level0_col2\" class=\"col_heading level0 col2\" >Gender</th>\n",
       "      <th id=\"T_58c80_level0_col3\" class=\"col_heading level0 col3\" >Age</th>\n",
       "      <th id=\"T_58c80_level0_col4\" class=\"col_heading level0 col4\" >Income</th>\n",
       "      <th id=\"T_58c80_level0_col5\" class=\"col_heading level0 col5\" >Illness</th>\n",
       "    </tr>\n",
       "  </thead>\n",
       "  <tbody>\n",
       "    <tr>\n",
       "      <th id=\"T_58c80_level0_row0\" class=\"row_heading level0 row0\" >Number</th>\n",
       "      <td id=\"T_58c80_row0_col0\" class=\"data row0 col0\" >1.000000</td>\n",
       "      <td id=\"T_58c80_row0_col1\" class=\"data row0 col1\" >nan</td>\n",
       "      <td id=\"T_58c80_row0_col2\" class=\"data row0 col2\" >0.005907</td>\n",
       "      <td id=\"T_58c80_row0_col3\" class=\"data row0 col3\" >-0.000018</td>\n",
       "      <td id=\"T_58c80_row0_col4\" class=\"data row0 col4\" >0.010240</td>\n",
       "      <td id=\"T_58c80_row0_col5\" class=\"data row0 col5\" >0.021249</td>\n",
       "    </tr>\n",
       "    <tr>\n",
       "      <th id=\"T_58c80_level0_row1\" class=\"row_heading level0 row1\" >City</th>\n",
       "      <td id=\"T_58c80_row1_col0\" class=\"data row1 col0\" >nan</td>\n",
       "      <td id=\"T_58c80_row1_col1\" class=\"data row1 col1\" >nan</td>\n",
       "      <td id=\"T_58c80_row1_col2\" class=\"data row1 col2\" >nan</td>\n",
       "      <td id=\"T_58c80_row1_col3\" class=\"data row1 col3\" >nan</td>\n",
       "      <td id=\"T_58c80_row1_col4\" class=\"data row1 col4\" >nan</td>\n",
       "      <td id=\"T_58c80_row1_col5\" class=\"data row1 col5\" >nan</td>\n",
       "    </tr>\n",
       "    <tr>\n",
       "      <th id=\"T_58c80_level0_row2\" class=\"row_heading level0 row2\" >Gender</th>\n",
       "      <td id=\"T_58c80_row2_col0\" class=\"data row2 col0\" >0.005907</td>\n",
       "      <td id=\"T_58c80_row2_col1\" class=\"data row2 col1\" >nan</td>\n",
       "      <td id=\"T_58c80_row2_col2\" class=\"data row2 col2\" >1.000000</td>\n",
       "      <td id=\"T_58c80_row2_col3\" class=\"data row2 col3\" >-0.004466</td>\n",
       "      <td id=\"T_58c80_row2_col4\" class=\"data row2 col4\" >0.431862</td>\n",
       "      <td id=\"T_58c80_row2_col5\" class=\"data row2 col5\" >0.006808</td>\n",
       "    </tr>\n",
       "    <tr>\n",
       "      <th id=\"T_58c80_level0_row3\" class=\"row_heading level0 row3\" >Age</th>\n",
       "      <td id=\"T_58c80_row3_col0\" class=\"data row3 col0\" >-0.000018</td>\n",
       "      <td id=\"T_58c80_row3_col1\" class=\"data row3 col1\" >nan</td>\n",
       "      <td id=\"T_58c80_row3_col2\" class=\"data row3 col2\" >-0.004466</td>\n",
       "      <td id=\"T_58c80_row3_col3\" class=\"data row3 col3\" >1.000000</td>\n",
       "      <td id=\"T_58c80_row3_col4\" class=\"data row3 col4\" >0.016273</td>\n",
       "      <td id=\"T_58c80_row3_col5\" class=\"data row3 col5\" >0.010014</td>\n",
       "    </tr>\n",
       "    <tr>\n",
       "      <th id=\"T_58c80_level0_row4\" class=\"row_heading level0 row4\" >Income</th>\n",
       "      <td id=\"T_58c80_row4_col0\" class=\"data row4 col0\" >0.010240</td>\n",
       "      <td id=\"T_58c80_row4_col1\" class=\"data row4 col1\" >nan</td>\n",
       "      <td id=\"T_58c80_row4_col2\" class=\"data row4 col2\" >0.431862</td>\n",
       "      <td id=\"T_58c80_row4_col3\" class=\"data row4 col3\" >0.016273</td>\n",
       "      <td id=\"T_58c80_row4_col4\" class=\"data row4 col4\" >1.000000</td>\n",
       "      <td id=\"T_58c80_row4_col5\" class=\"data row4 col5\" >0.005965</td>\n",
       "    </tr>\n",
       "    <tr>\n",
       "      <th id=\"T_58c80_level0_row5\" class=\"row_heading level0 row5\" >Illness</th>\n",
       "      <td id=\"T_58c80_row5_col0\" class=\"data row5 col0\" >0.021249</td>\n",
       "      <td id=\"T_58c80_row5_col1\" class=\"data row5 col1\" >nan</td>\n",
       "      <td id=\"T_58c80_row5_col2\" class=\"data row5 col2\" >0.006808</td>\n",
       "      <td id=\"T_58c80_row5_col3\" class=\"data row5 col3\" >0.010014</td>\n",
       "      <td id=\"T_58c80_row5_col4\" class=\"data row5 col4\" >0.005965</td>\n",
       "      <td id=\"T_58c80_row5_col5\" class=\"data row5 col5\" >1.000000</td>\n",
       "    </tr>\n",
       "  </tbody>\n",
       "</table>\n"
      ],
      "text/plain": [
       "<pandas.io.formats.style.Styler at 0x1f174ea62c0>"
      ]
     },
     "execution_count": 42,
     "metadata": {},
     "output_type": "execute_result"
    }
   ],
   "source": [
    "corr = data.corr()\n",
    "corr.style.background_gradient(cmap='coolwarm')"
   ]
  },
  {
   "cell_type": "code",
   "execution_count": 21,
   "id": "03c7975a",
   "metadata": {},
   "outputs": [],
   "source": [
    "from sklearn import svm"
   ]
  },
  {
   "cell_type": "code",
   "execution_count": 22,
   "id": "29813192",
   "metadata": {},
   "outputs": [],
   "source": [
    "X_data, y_data = data.drop(columns=['Illness']), data[['Illness']]\n",
    "X_test, X_train, y_test, y_train = train_test_split(X_data, y_data)"
   ]
  },
  {
   "cell_type": "code",
   "execution_count": 26,
   "id": "86178ff8",
   "metadata": {},
   "outputs": [],
   "source": [
    "gb = GradientBoostingClassifier()\n",
    "gb.fit(X_train, y_train.to_numpy().flatten())\n",
    "gb_clpred = gb.predict(X_test)"
   ]
  },
  {
   "cell_type": "code",
   "execution_count": 33,
   "id": "f42f5a8a",
   "metadata": {},
   "outputs": [
    {
     "data": {
      "text/plain": [
       "0.4976647000983284"
      ]
     },
     "execution_count": 33,
     "metadata": {},
     "output_type": "execute_result"
    }
   ],
   "source": [
    "balanced_accuracy_score(y_test, gb_clpred)"
   ]
  },
  {
   "cell_type": "code",
   "execution_count": null,
   "id": "703b27f1",
   "metadata": {},
   "outputs": [],
   "source": []
  },
  {
   "cell_type": "code",
   "execution_count": 28,
   "id": "fdf4feb2",
   "metadata": {},
   "outputs": [
    {
     "data": {
      "text/plain": [
       "array([0, 0, 0, 0, 0, 0, 0, 0, 0, 1, 0, 0, 0, 0, 0, 0, 0, 0, 0, 0, 0, 0,\n",
       "       1, 0, 0, 0, 0, 0, 0, 0, 0, 0, 0, 0, 0, 0, 0, 0, 0, 0, 0, 0, 0, 0,\n",
       "       0, 0, 1, 0, 0, 0, 0, 0, 0, 0, 0, 0, 0, 0, 0, 0, 0, 0, 0, 0, 0, 0,\n",
       "       0, 0, 0, 0, 0, 0, 0, 0, 0, 0, 0, 0, 0, 0, 0, 0, 0, 0, 0, 0, 0, 0,\n",
       "       1, 1, 0, 0, 0, 0, 0, 0, 0, 0, 0, 0, 0, 0, 0, 0, 0, 0, 0, 0, 0, 0,\n",
       "       0, 0, 0, 0, 0, 0, 0, 0, 0, 0, 0, 1, 0, 0, 0, 0, 0, 0, 0, 0, 0, 0,\n",
       "       0, 0, 0, 0, 0, 0, 0, 0, 0, 0, 0, 0, 0, 0, 0, 1, 0, 0, 0, 0, 0, 0,\n",
       "       0, 0, 0, 0, 0, 0, 0, 0, 0, 0, 0, 0, 0, 0, 0, 0, 0, 0, 0, 0, 0, 0,\n",
       "       0, 0, 0, 0, 0, 0, 0, 0, 0, 0, 0, 0, 0, 0, 0, 0, 0, 0, 0, 0, 0, 0,\n",
       "       0, 0, 1, 0, 0, 0, 0, 0, 0, 0, 0, 0, 0, 0, 0, 0, 0, 0, 0, 0, 0, 0,\n",
       "       0, 0, 1, 0, 0, 0, 0, 0, 0, 0, 0, 0, 0, 0, 0, 0, 0, 0, 0, 0, 0, 0,\n",
       "       0, 0, 0, 0, 0, 0, 0, 0, 0, 0, 0, 0, 0, 0, 0, 0, 0, 0, 0, 0, 0, 0,\n",
       "       0, 0, 0, 0, 0, 1, 0, 0, 0, 0, 0, 0, 0, 0, 0, 0, 0, 0, 0, 0, 0, 0,\n",
       "       0, 0, 0, 0, 0, 0, 0, 0, 0, 0, 0, 0, 0, 0, 0, 0, 0, 0, 0, 0, 0, 0,\n",
       "       0, 0, 0, 0, 0, 0, 0, 0, 0, 0, 0, 0, 0, 0, 0, 0, 0, 0, 0, 0, 1, 0,\n",
       "       0, 0, 0, 0, 0, 0, 0, 0, 0, 0, 0, 0, 0, 0, 0, 0, 0, 0, 0, 0, 0, 0,\n",
       "       0, 0, 0, 0, 0, 1, 0, 0, 1, 0, 0, 0, 0, 0, 0, 0, 0, 0, 0, 0, 0, 0,\n",
       "       0, 0, 0, 0, 0, 0, 0, 0, 0, 0, 0, 0, 0, 0, 0, 0, 0, 0, 0, 0, 0, 0,\n",
       "       0, 0, 0, 0, 0, 0, 0, 0, 0, 0, 0, 0, 0, 0, 0, 0, 0, 0, 1, 0, 0, 1,\n",
       "       0, 0, 0, 0, 0, 0, 0, 0, 0, 0, 0, 0, 0, 0, 0, 0, 0, 0, 0, 0, 0, 0,\n",
       "       0, 0, 0, 0, 0, 0, 0, 0, 0, 0, 0, 0, 0, 0, 0, 1, 0, 0, 0, 0, 0, 0,\n",
       "       0, 0, 0, 0, 0, 0, 0, 0, 0, 0, 0, 0, 0, 0, 0, 0, 0, 0, 0, 0, 0, 0,\n",
       "       0, 0, 0, 0, 0, 0, 0, 0, 0, 0, 0, 0, 0, 0, 0, 0, 0, 0, 0, 0, 0, 0,\n",
       "       0, 0, 0, 0, 0, 0, 0, 0, 0, 0, 0, 0, 0, 0, 0, 0, 0, 0, 0, 0, 0, 0,\n",
       "       0, 0, 0, 0, 0, 0, 0, 0, 0, 0, 0, 0, 0, 0, 0, 0, 0, 0, 0, 0, 0, 0,\n",
       "       0, 0, 0, 0, 0, 0, 0, 0, 0, 0, 0, 0, 0, 0, 0, 0, 0, 0, 0, 0, 0, 0,\n",
       "       0, 0, 0, 0, 0, 0, 0, 0, 0, 0, 0, 0, 0, 0, 0, 0, 0, 0, 0, 0, 0, 0,\n",
       "       0, 0, 0, 0, 0, 0, 0, 0, 0, 0, 0, 0, 0, 0, 0, 0, 0, 1, 0, 0, 0, 0,\n",
       "       0, 0, 0, 0, 0, 0, 0, 0, 0, 0, 0, 0, 0, 0, 0, 0, 0, 0, 0, 0, 0, 0,\n",
       "       0, 0, 1, 0, 0, 0, 0, 0, 0, 0, 0, 0, 0, 0, 0, 0, 0, 0, 0, 0, 0, 0,\n",
       "       1, 0, 0, 0, 0, 0, 0, 0, 0, 0, 0, 0, 0, 0, 0, 0, 0, 0, 0, 0, 0, 0,\n",
       "       0, 0, 0, 0, 0, 0, 1, 0, 0, 0, 0, 0, 0, 0, 0, 0, 0, 0, 0, 0, 0, 0,\n",
       "       0, 0, 0, 0, 0, 0, 0, 0, 0, 0, 0, 0, 1, 0, 0, 0, 0, 0, 0, 0, 0, 0,\n",
       "       0, 0, 0, 0, 0, 0, 1, 0, 0, 0, 0, 0, 0, 0, 0, 1, 0, 0, 0, 0, 0, 0,\n",
       "       1, 0], dtype=int8)"
      ]
     },
     "execution_count": 28,
     "metadata": {},
     "output_type": "execute_result"
    }
   ],
   "source": [
    "gb_clpred"
   ]
  },
  {
   "cell_type": "code",
   "execution_count": 39,
   "id": "0823c6eb",
   "metadata": {},
   "outputs": [
    {
     "name": "stderr",
     "output_type": "stream",
     "text": [
      "C:\\Users\\user\\anaconda3\\lib\\site-packages\\sklearn\\utils\\validation.py:1143: DataConversionWarning: A column-vector y was passed when a 1d array was expected. Please change the shape of y to (n_samples, ), for example using ravel().\n",
      "  y = column_or_1d(y, warn=True)\n"
     ]
    }
   ],
   "source": [
    "clf = svm.SVC(kernel='rbf', gamma=0.9, C=1.0).fit(X_train, y_train)\n",
    "predict_illness = clf.predict(X_test)"
   ]
  },
  {
   "cell_type": "code",
   "execution_count": 40,
   "id": "713d4490",
   "metadata": {},
   "outputs": [
    {
     "data": {
      "text/plain": [
       "0.5"
      ]
     },
     "execution_count": 40,
     "metadata": {},
     "output_type": "execute_result"
    }
   ],
   "source": [
    "balanced_accuracy_score(y_test, predict_illness)"
   ]
  },
  {
   "cell_type": "code",
   "execution_count": 41,
   "id": "8c5bb83a",
   "metadata": {},
   "outputs": [
    {
     "data": {
      "text/plain": [
       "array([0, 0, 0, 0, 0, 0, 0, 0, 0, 0, 0, 0, 0, 0, 0, 0, 0, 0, 0, 0, 0, 0,\n",
       "       0, 0, 0, 0, 0, 0, 0, 0, 0, 0, 0, 0, 0, 0, 0, 0, 0, 0, 0, 0, 0, 0,\n",
       "       0, 0, 0, 0, 0, 0, 0, 0, 0, 0, 0, 0, 0, 0, 0, 0, 0, 0, 0, 0, 0, 0,\n",
       "       0, 0, 0, 0, 0, 0, 0, 0, 0, 0, 0, 0, 0, 0, 0, 0, 0, 0, 0, 0, 0, 0,\n",
       "       0, 0, 0, 0, 0, 0, 0, 0, 0, 0, 0, 0, 0, 0, 0, 0, 0, 0, 0, 0, 0, 0,\n",
       "       0, 0, 0, 0, 0, 0, 0, 0, 0, 0, 0, 0, 0, 0, 0, 0, 0, 0, 0, 0, 0, 0,\n",
       "       0, 0, 0, 0, 0, 0, 0, 0, 0, 0, 0, 0, 0, 0, 0, 0, 0, 0, 0, 0, 0, 0,\n",
       "       0, 0, 0, 0, 0, 0, 0, 0, 0, 0, 0, 0, 0, 0, 0, 0, 0, 0, 0, 0, 0, 0,\n",
       "       0, 0, 0, 0, 0, 0, 0, 0, 0, 0, 0, 0, 0, 0, 0, 0, 0, 0, 0, 0, 0, 0,\n",
       "       0, 0, 0, 0, 0, 0, 0, 0, 0, 0, 0, 0, 0, 0, 0, 0, 0, 0, 0, 0, 0, 0,\n",
       "       0, 0, 0, 0, 0, 0, 0, 0, 0, 0, 0, 0, 0, 0, 0, 0, 0, 0, 0, 0, 0, 0,\n",
       "       0, 0, 0, 0, 0, 0, 0, 0, 0, 0, 0, 0, 0, 0, 0, 0, 0, 0, 0, 0, 0, 0,\n",
       "       0, 0, 0, 0, 0, 0, 0, 0, 0, 0, 0, 0, 0, 0, 0, 0, 0, 0, 0, 0, 0, 0,\n",
       "       0, 0, 0, 0, 0, 0, 0, 0, 0, 0, 0, 0, 0, 0, 0, 0, 0, 0, 0, 0, 0, 0,\n",
       "       0, 0, 0, 0, 0, 0, 0, 0, 0, 0, 0, 0, 0, 0, 0, 0, 0, 0, 0, 0, 0, 0,\n",
       "       0, 0, 0, 0, 0, 0, 0, 0, 0, 0, 0, 0, 0, 0, 0, 0, 0, 0, 0, 0, 0, 0,\n",
       "       0, 0, 0, 0, 0, 0, 0, 0, 0, 0, 0, 0, 0, 0, 0, 0, 0, 0, 0, 0, 0, 0,\n",
       "       0, 0, 0, 0, 0, 0, 0, 0, 0, 0, 0, 0, 0, 0, 0, 0, 0, 0, 0, 0, 0, 0,\n",
       "       0, 0, 0, 0, 0, 0, 0, 0, 0, 0, 0, 0, 0, 0, 0, 0, 0, 0, 0, 0, 0, 0,\n",
       "       0, 0, 0, 0, 0, 0, 0, 0, 0, 0, 0, 0, 0, 0, 0, 0, 0, 0, 0, 0, 0, 0,\n",
       "       0, 0, 0, 0, 0, 0, 0, 0, 0, 0, 0, 0, 0, 0, 0, 0, 0, 0, 0, 0, 0, 0,\n",
       "       0, 0, 0, 0, 0, 0, 0, 0, 0, 0, 0, 0, 0, 0, 0, 0, 0, 0, 0, 0, 0, 0,\n",
       "       0, 0, 0, 0, 0, 0, 0, 0, 0, 0, 0, 0, 0, 0, 0, 0, 0, 0, 0, 0, 0, 0,\n",
       "       0, 0, 0, 0, 0, 0, 0, 0, 0, 0, 0, 0, 0, 0, 0, 0, 0, 0, 0, 0, 0, 0,\n",
       "       0, 0, 0, 0, 0, 0, 0, 0, 0, 0, 0, 0, 0, 0, 0, 0, 0, 0, 0, 0, 0, 0,\n",
       "       0, 0, 0, 0, 0, 0, 0, 0, 0, 0, 0, 0, 0, 0, 0, 0, 0, 0, 0, 0, 0, 0,\n",
       "       0, 0, 0, 0, 0, 0, 0, 0, 0, 0, 0, 0, 0, 0, 0, 0, 0, 0, 0, 0, 0, 0,\n",
       "       0, 0, 0, 0, 0, 0, 0, 0, 0, 0, 0, 0, 0, 0, 0, 0, 0, 0, 0, 0, 0, 0,\n",
       "       0, 0, 0, 0, 0, 0, 0, 0, 0, 0, 0, 0, 0, 0, 0, 0, 0, 0, 0, 0, 0, 0,\n",
       "       0, 0, 0, 0, 0, 0, 0, 0, 0, 0, 0, 0, 0, 0, 0, 0, 0, 0, 0, 0, 0, 0,\n",
       "       0, 0, 0, 0, 0, 0, 0, 0, 0, 0, 0, 0, 0, 0, 0, 0, 0, 0, 0, 0, 0, 0,\n",
       "       0, 0, 0, 0, 0, 0, 0, 0, 0, 0, 0, 0, 0, 0, 0, 0, 0, 0, 0, 0, 0, 0,\n",
       "       0, 0, 0, 0, 0, 0, 0, 0, 0, 0, 0, 0, 0, 0, 0, 0, 0, 0, 0, 0, 0, 0,\n",
       "       0, 0, 0, 0, 0, 0, 0, 0, 0, 0, 0, 0, 0, 0, 0, 0, 0, 0, 0, 0, 0, 0,\n",
       "       0, 0], dtype=int8)"
      ]
     },
     "execution_count": 41,
     "metadata": {},
     "output_type": "execute_result"
    }
   ],
   "source": [
    "predict_illness"
   ]
  },
  {
   "cell_type": "code",
   "execution_count": null,
   "id": "e265b1b9",
   "metadata": {},
   "outputs": [],
   "source": []
  }
 ],
 "metadata": {
  "kernelspec": {
   "display_name": "Python 3 (ipykernel)",
   "language": "python",
   "name": "python3"
  },
  "language_info": {
   "codemirror_mode": {
    "name": "ipython",
    "version": 3
   },
   "file_extension": ".py",
   "mimetype": "text/x-python",
   "name": "python",
   "nbconvert_exporter": "python",
   "pygments_lexer": "ipython3",
   "version": "3.10.9"
  }
 },
 "nbformat": 4,
 "nbformat_minor": 5
}
